{
  "nbformat": 4,
  "nbformat_minor": 0,
  "metadata": {
    "colab": {
      "name": "Post Training Error Analysis ",
      "provenance": [],
      "collapsed_sections": []
    },
    "kernelspec": {
      "name": "python3",
      "display_name": "Python 3"
    },
    "language_info": {
      "name": "python"
    }
  },
  "cells": [
    {
      "cell_type": "markdown",
      "source": [
        "POST TRAINING ERROR ANALYSIS"
      ],
      "metadata": {
        "id": "Ip5zU7wnh2BA"
      }
    },
    {
      "cell_type": "code",
      "source": [
        "import numpy as np\n",
        "from sklearn.model_selection import KFold, StratifiedKFold\n",
        "from sklearn.model_selection import train_test_split"
      ],
      "metadata": {
        "id": "POQMS4LliDqg"
      },
      "execution_count": null,
      "outputs": []
    },
    {
      "cell_type": "code",
      "source": [
        "import pandas as pd \n",
        "import numpy as np\n",
        "import matplotlib.pyplot as plt\n",
        "from prettytable import PrettyTable\n",
        "\n",
        "from sklearn.preprocessing import MinMaxScaler\n",
        "from sklearn.model_selection import train_test_split\n",
        "\n",
        "from sklearn.model_selection import GridSearchCV\n",
        "from sklearn.model_selection import RandomizedSearchCV\n",
        "\n",
        "from sklearn.linear_model import LinearRegression\n",
        "from sklearn.linear_model import SGDRegressor\n",
        "from sklearn.svm import SVR\n",
        "from sklearn.ensemble import RandomForestRegressor\n",
        "\n",
        "import lightgbm as lgb\n",
        "\n",
        "\n",
        "\n",
        "from sklearn.metrics import mean_squared_error\n",
        "from math import sqrt\n",
        "\n",
        "import gc\n",
        "import warnings\n",
        "warnings.filterwarnings('ignore')"
      ],
      "metadata": {
        "id": "znGr2GAbiJ4R"
      },
      "execution_count": null,
      "outputs": []
    },
    {
      "cell_type": "code",
      "source": [
        "import pandas as pd\n",
        "import numpy as np\n",
        "import warnings\n",
        "import seaborn as sns\n",
        "import matplotlib.pyplot as plt\n",
        "import datetime\n",
        "import pickle\n",
        "from tqdm import tqdm\n",
        "import os\n",
        "warnings.filterwarnings(\"ignore\")"
      ],
      "metadata": {
        "id": "STtQTXt2ibx3"
      },
      "execution_count": null,
      "outputs": []
    },
    {
      "cell_type": "code",
      "source": [
        "from google.colab import drive\n",
        "drive.mount('/content/drive')"
      ],
      "metadata": {
        "colab": {
          "base_uri": "https://localhost:8080/"
        },
        "id": "YU9EHYI7kdlZ",
        "outputId": "f513f79f-1ade-4f80-aa02-1930ba5c70e8"
      },
      "execution_count": null,
      "outputs": [
        {
          "output_type": "stream",
          "name": "stdout",
          "text": [
            "Mounted at /content/drive\n"
          ]
        }
      ]
    },
    {
      "cell_type": "code",
      "source": [
        "os.chdir('/content/drive/MyDrive/Folds_Data')"
      ],
      "metadata": {
        "id": "f8GiliX2laap"
      },
      "execution_count": null,
      "outputs": []
    },
    {
      "cell_type": "code",
      "execution_count": null,
      "metadata": {
        "id": "lAhqYLnJhw_t"
      },
      "outputs": [],
      "source": [
        "#importing previous model predictions\n",
        "oof2,predictions_skf = pickle.load(open('skf_data','rb'))\n",
        "#pickle.dump(clf, open('skf_fold', 'wb'))"
      ]
    },
    {
      "cell_type": "code",
      "source": [
        "\n",
        "oof1,predictions_kf = pickle.load(open('kf_data (1)','rb'))\n",
        "#pickle.dump(clf, open('kf_fold', 'wb'))"
      ],
      "metadata": {
        "id": "uLHGNDd-lPgq"
      },
      "execution_count": null,
      "outputs": []
    },
    {
      "cell_type": "code",
      "source": [
        "rare_values,target = pickle.load(open('rare&target_values','rb'))"
      ],
      "metadata": {
        "id": "GwBaFbBZmy92"
      },
      "execution_count": null,
      "outputs": []
    },
    {
      "cell_type": "code",
      "source": [
        "oof_stack,predictions_stack = pickle.load(open('stack_data','rb'))"
      ],
      "metadata": {
        "id": "upDKsDMvn-L_"
      },
      "execution_count": null,
      "outputs": []
    },
    {
      "cell_type": "code",
      "source": [
        "import seaborn as sns"
      ],
      "metadata": {
        "id": "VnsYoD0jpfoi"
      },
      "execution_count": null,
      "outputs": []
    },
    {
      "cell_type": "code",
      "source": [
        "\n",
        "sns.distplot(abs(target - oof_stack)).set(title = \"Plotting PDF of Errors of each point\", xlabel = \"Error Value\")\n",
        "plt.show()"
      ],
      "metadata": {
        "colab": {
          "base_uri": "https://localhost:8080/",
          "height": 295
        },
        "id": "X5ud-lZPoxCw",
        "outputId": "846a590f-7b5c-4b86-fa43-bc8e3b0c47e7"
      },
      "execution_count": null,
      "outputs": [
        {
          "output_type": "display_data",
          "data": {
            "text/plain": [
              "<Figure size 432x288 with 1 Axes>"
            ],
            "image/png": "[encoded data removed]"
          },
          "metadata": {
            "needs_background": "light"
          }
        }
      ]
    },
    {
      "cell_type": "markdown",
      "source": [
        "Reveiwing highly missclassified points (error > 20)"
      ],
      "metadata": {
        "id": "GeNkn35RT5qP"
      }
    },
    {
      "cell_type": "code",
      "source": [
        "# Miss classified points with error value greater than 20\n",
        "index_20 = [i for i in range(len(target)) if abs(target[i] - oof_stack[i])> 20]\n",
        "len([i for i in range(len(target)) if abs(target[i] - oof_stack[i]) > 20])"
      ],
      "metadata": {
        "colab": {
          "base_uri": "https://localhost:8080/"
        },
        "id": "zb2S5RtArvCz",
        "outputId": "89222220-abfe-48c8-97fd-bd72796610c8"
      },
      "execution_count": null,
      "outputs": [
        {
          "output_type": "execute_result",
          "data": {
            "text/plain": [
              "2185"
            ]
          },
          "metadata": {},
          "execution_count": 24
        }
      ]
    },
    {
      "cell_type": "code",
      "source": [
        "sns.displot(target.iloc[index_20].values).set(title = \"Plotting Target PDF of highly misclassified points\", xlabel = \"Indexes\")\n"
      ],
      "metadata": {
        "colab": {
          "base_uri": "https://localhost:8080/",
          "height": 416
        },
        "id": "Hcn4IzPATCZC",
        "outputId": "adbb355d-d77c-40a9-9b9f-8885c07f4bb7"
      },
      "execution_count": null,
      "outputs": [
        {
          "output_type": "execute_result",
          "data": {
            "text/plain": [
              "<seaborn.axisgrid.FacetGrid at 0x7f051a3941d0>"
            ]
          },
          "metadata": {},
          "execution_count": 51
        },
        {
          "output_type": "display_data",
          "data": {
            "text/plain": [
              "<Figure size 360x360 with 1 Axes>"
            ],
            "image/png": "[encoded data removed]"
          },
          "metadata": {
            "needs_background": "light"
          }
        }
      ]
    },
    {
      "cell_type": "markdown",
      "source": [
        "From above we can see all the highly missclassified points have target value less -30. So we can say not all the rare points are predicted properly"
      ],
      "metadata": {
        "id": "uEsf-AOtSmi3"
      }
    },
    {
      "cell_type": "code",
      "source": [
        "index = [i for i in range(len(target)) if abs(target[i] - oof_stack[i])> 10 and abs(target[i] - oof_stack[i])<20 ]\n",
        "print(\" No of points with error value in 10 to 20 range: \", len(index))"
      ],
      "metadata": {
        "colab": {
          "base_uri": "https://localhost:8080/"
        },
        "id": "Azur5GMDVUWO",
        "outputId": "239a0246-7805-46af-deac-f4f52e3fc25a"
      },
      "execution_count": null,
      "outputs": [
        {
          "output_type": "stream",
          "name": "stdout",
          "text": [
            " No of points with error value in 10 to 20 range:  357\n"
          ]
        }
      ]
    },
    {
      "cell_type": "code",
      "source": [
        "index = [i for i in range(len(target)) if abs(target[i] - oof_stack[i])> 5 and abs(target[i] - oof_stack[i])<10 ]\n",
        "print(\" No of points with error value in 5 to 10 range: \", len(index))"
      ],
      "metadata": {
        "colab": {
          "base_uri": "https://localhost:8080/"
        },
        "id": "fDZOldW6Wa37",
        "outputId": "4fd4b5e4-bbe6-4b2f-c353-f69a2d786e74"
      },
      "execution_count": null,
      "outputs": [
        {
          "output_type": "stream",
          "name": "stdout",
          "text": [
            " No of points with error value in 5 to 10 range:  4356\n"
          ]
        }
      ]
    },
    {
      "cell_type": "code",
      "source": [
        "index = [i for i in range(len(target)) if abs(target[i] - oof_stack[i])> 3.5 and abs(target[i] - oof_stack[i])<5 ]\n",
        "print(\" No of points with error value in 3.5 to 5 range: \", len(index))"
      ],
      "metadata": {
        "colab": {
          "base_uri": "https://localhost:8080/"
        },
        "id": "F1PbpFfkVho4",
        "outputId": "080f37d5-3d61-4447-ff78-f61e12afe835"
      },
      "execution_count": null,
      "outputs": [
        {
          "output_type": "stream",
          "name": "stdout",
          "text": [
            " No of points with error value in 3.5 to 5 range:  8361\n"
          ]
        }
      ]
    },
    {
      "cell_type": "code",
      "source": [
        "index = [i for i in range(len(target)) if abs(target[i] - oof_stack[i])> 3.5]\n",
        "len(index)"
      ],
      "metadata": {
        "colab": {
          "base_uri": "https://localhost:8080/"
        },
        "id": "23jixSMvVp8j",
        "outputId": "02340b4b-c413-452c-a24c-e430b71fc03f"
      },
      "execution_count": null,
      "outputs": [
        {
          "output_type": "execute_result",
          "data": {
            "text/plain": [
              "15259"
            ]
          },
          "metadata": {},
          "execution_count": 23
        }
      ]
    },
    {
      "cell_type": "code",
      "source": [
        "index = [i for i in range(len(target)) if abs(target[i] - oof_stack[i])> 3.5 and abs(target[i] - oof_stack[i])<10 ]\n",
        "len(index)"
      ],
      "metadata": {
        "colab": {
          "base_uri": "https://localhost:8080/"
        },
        "id": "PVdzD35HVbbT",
        "outputId": "e7ccea26-d6ba-4a9f-8045-00681f33b00f"
      },
      "execution_count": null,
      "outputs": [
        {
          "output_type": "execute_result",
          "data": {
            "text/plain": [
              "12717"
            ]
          },
          "metadata": {},
          "execution_count": 20
        }
      ]
    },
    {
      "cell_type": "code",
      "source": [
        "sns.distplot(target.iloc[index].values).set(title = \"Plotting PDF of target values\", xlabel = \"Target\")\n",
        "plt.show()"
      ],
      "metadata": {
        "colab": {
          "base_uri": "https://localhost:8080/",
          "height": 295
        },
        "id": "n5dCmgGSr6EL",
        "outputId": "fe9969df-8a5c-40f6-9397-d592fa776f96"
      },
      "execution_count": null,
      "outputs": [
        {
          "output_type": "display_data",
          "data": {
            "text/plain": [
              "<Figure size 432x288 with 1 Axes>"
            ],
            "image/png": "[encoded data removed]"
          },
          "metadata": {
            "needs_background": "light"
          }
        }
      ]
    },
    {
      "cell_type": "markdown",
      "source": [
        "#Reviewing correctly classfied points ( Error <3.5)"
      ],
      "metadata": {
        "id": "3ECY_CZIayDi"
      }
    },
    {
      "cell_type": "code",
      "source": [
        "index_c = [i for i in range(len(target)) if abs(target[i] - oof_stack[i])< 3.5]\n",
        "len(index_c)"
      ],
      "metadata": {
        "colab": {
          "base_uri": "https://localhost:8080/"
        },
        "id": "9KvWBsqnxJOF",
        "outputId": "30d1ace9-4fc1-4c76-ed0e-c49e36d7a285"
      },
      "execution_count": null,
      "outputs": [
        {
          "output_type": "execute_result",
          "data": {
            "text/plain": [
              "186658"
            ]
          },
          "metadata": {},
          "execution_count": 52
        }
      ]
    },
    {
      "cell_type": "code",
      "source": [
        "sns.distplot(target.iloc[index_c].values).set(title = \"PDF of correctlt predicted Target values\", xlabel = \"Error Value\")"
      ],
      "metadata": {
        "colab": {
          "base_uri": "https://localhost:8080/",
          "height": 330
        },
        "id": "h15gAxASbCYx",
        "outputId": "27674f1c-c604-4838-b1f9-d8b93b1c1adf"
      },
      "execution_count": null,
      "outputs": [
        {
          "output_type": "execute_result",
          "data": {
            "text/plain": [
              "[Text(0.5, 0, 'Error Value'),\n",
              " Text(0.5, 1.0, 'PDF of correctlt predicted Target values')]"
            ]
          },
          "metadata": {},
          "execution_count": 53
        },
        {
          "output_type": "display_data",
          "data": {
            "text/plain": [
              "<Figure size 432x288 with 1 Axes>"
            ],
            "image/png": "[encoded data removed]"
          },
          "metadata": {
            "needs_background": "light"
          }
        }
      ]
    },
    {
      "cell_type": "code",
      "source": [
        "fig = plt.figure(figsize=(10,6))\n",
        "\n",
        "sns.kdeplot(target.iloc[index_c].values)\n",
        "sns.kdeplot(target.iloc[index].values)\n",
        "sns.kdeplot(target.values)\n",
        "plt.title(\" Pdf Comparison\")\n",
        "fig.legend(labels=['Correctly predicted points','Miss predicted points','Target points'])\n",
        "plt.show()"
      ],
      "metadata": {
        "colab": {
          "base_uri": "https://localhost:8080/",
          "height": 421
        },
        "id": "9ahRfYL6bcte",
        "outputId": "bbe5a971-b9aa-4531-e07e-6ac5f93a1a36"
      },
      "execution_count": null,
      "outputs": [
        {
          "output_type": "display_data",
          "data": {
            "text/plain": [
              "<Figure size 720x432 with 1 Axes>"
            ],
            "image/png": "[encoded data removed]"
          },
          "metadata": {
            "needs_background": "light"
          }
        }
      ]
    },
    {
      "cell_type": "markdown",
      "source": [
        "Seems like most of the misclassified points are in -3.5 to -10 and +3.5 to 10 range"
      ],
      "metadata": {
        "id": "gFZDgOEce2XH"
      }
    },
    {
      "cell_type": "code",
      "source": [
        ""
      ],
      "metadata": {
        "id": "iE8RHmizfm4K"
      },
      "execution_count": null,
      "outputs": []
    },
    {
      "cell_type": "code",
      "source": [
        ""
      ],
      "metadata": {
        "id": "xPr9QtMab9a_"
      },
      "execution_count": null,
      "outputs": []
    }
  ]
}